{
 "cells": [
  {
   "cell_type": "markdown",
   "metadata": {},
   "source": [
    "# Machine Learning for Trading\n",
    "### Implement machine learning based strategies to make trading decisions using real-world data.\n",
    "---\n",
    "\n",
    "**Santiago Álvarez Sepúlveda**\n",
    "\n",
    "**E-mail:** saalvarezse@unal.edu.co\n",
    "\n",
    "Results of excercises and quices asigned on the course [Machine Learning for Trading - Tucker Balch (Georgia Tech)](https://classroom.udacity.com/courses/ud501) in Udacity. \n",
    "\n",
    "The lessons picked to develop this assignment are the following:\n",
    "\n",
    "  1. **Lesson 00-00:** Introduction\n",
    "  2. **Lesson 01-01:** Reading and Plotting Stock Data\n",
    "  3. **Lesson 01-02:** Working with Multiple Stocks\n",
    "  4. **Lesson 02-02:** Market Mechanics\n",
    "  5. **Lesson 02-06:** Technical Analysis\n",
    "  6. **Lesson 03-01:** How Machine Learning is Used at a Hedge Fund\n",
    "  7. **Lesson 03-02:** Regression\n",
    "  8. **Lesson 03-05:** Reinforcement Learning\n",
    "  9. **Lesson 03-06:** Q-Learning\n",
    "  \n"
   ]
  },
  {
   "cell_type": "markdown",
   "metadata": {},
   "source": [
    "## Lesson 00-00: Introduction"
   ]
  },
  {
   "cell_type": "markdown",
   "metadata": {},
   "source": [
    "### 1. Introduction\n",
    "\n",
    "Professor **Tucker Balch** and his student assistant **Devpriya Dave (A.K.A. Dev)** from **Georgia Tech** will be the instructors for the course.\n",
    "\n",
    "Tucker Balch was first introduced to machine learning researching about it's aplication in robotics, and in 2007 he became interested in applying the same algorithms for investing, since then he shifted his knowledge to finance and also cofounded a **FinTech** company called **Lucena Research**.\n",
    "\n",
    "Devpriya Dave is a graduate student from **Georgia Tech** and has been working with professor Tucker Balch building up a predictive system for stock market.\n",
    "\n",
    "Through the course we will explore how information influences the movemen of a stock price, how to build software to analyse and visualize these relationships, and details about the stock exchanges work, finally, at the end of the course it will be teached how to build machine learning algorithms that can be used to build real trading strategies."
   ]
  },
  {
   "cell_type": "markdown",
   "metadata": {},
   "source": [
    "### 2. Three parts of the course\n",
    "\n",
    "The course is split in three parts:\n",
    "\n",
    "1. **Manipulating Financial Data in Python:**\n",
    "Techniques to read historical financial data into Python and manipulate it using powerfull statistical algorithms.\n",
    "\n",
    "2. **Computational Investing:**\n",
    "A set of algorithms, methods and models used by hedge funds and investment banks to manipulate and work with financial data.\n",
    "\n",
    "3. **Learning Algorithms for Trading:**\n",
    "Everything will be pulled together, how to use financial data and create algorithms based on machine learning techniques.\n",
    "\n"
   ]
  },
  {
   "cell_type": "markdown",
   "metadata": {},
   "source": [
    "### 3. Textbooks\n",
    "\n",
    "The main books refered for each part of the course are:\n",
    "\n",
    "1. **Manipulating Financial Data in Python:**\n",
    "[Python for Finance by Hilpisch.](https://doc.lagout.org/programmation/python/Python%20for%20Finance_%20Analyze%20Big%20Financial%20Data%20%5BHilpisch%202014-12-27%5D.pdf)\n",
    "\n",
    "2. **Computational Investing:**\n",
    "[What Hedge Funds Really Do by Tucker Balch and Philip Romero.](https://www.oreilly.com/library/view/what-hedge-funds/9781631570896/)\n",
    "\n",
    "3. **Learning Algorithms for Trading:**\n",
    "[Machine Learning by Tom Mitchel.](https://www.cs.ubbcluj.ro/~gabis/ml/ml-books/McGrawHill%20-%20Machine%20Learning%20-Tom%20Mitchell.pdf)\n"
   ]
  },
  {
   "cell_type": "markdown",
   "metadata": {},
   "source": [
    "### 4. Prerequisites\n",
    "\n",
    "You don't have to be an expert stock analyst, the main prerequisites for teh course are:\n",
    "\n",
    "* Be a strong programmer in Python"
   ]
  },
  {
   "cell_type": "markdown",
   "metadata": {},
   "source": [
    "## Lesson 01-01: Reading and plotting stock data"
   ]
  },
  {
   "cell_type": "markdown",
   "metadata": {},
   "source": [
    "### 1. Introduction\n",
    "\n",
    "This lesson covers a quick introduction to manipulating financial data in Python.\n",
    "\n",
    "Some advantages of using Python for this tasks are the following:\n",
    "\n",
    "* Quickly prototipe algorithms\n",
    "* Computational speed\n",
    "* Strong cientific libraries\n",
    "* Strongly maintained\n",
    "* Fast"
   ]
  },
  {
   "cell_type": "markdown",
   "metadata": {},
   "source": [
    "### 2. Lesson outline\n",
    "\n",
    "In this lesson you will learn how to read data, select subsets of it and generate useful plots, using pandas and matplotlib. The documentation links below are for your reference.\n",
    "\n",
    "Read stock data from CSV files:\n",
    "  * [pandas.DataFrame](http://pandas.pydata.org/pandas-docs/stable/generated/pandas.DataFrame.html)\n",
    "  * [pandas.read_csv](http://pandas.pydata.org/pandas-docs/stable/generated/pandas.read_csv.html)\n",
    "\n",
    "Select desired rows and columns:\n",
    "  * [Indexing and Slicing Data](http://pandas.pydata.org/pandas-docs/stable/indexing.html)\n",
    "  * Gotchas: [Label-based slicing conventions](http://pandas.pydata.org/pandas-docs/stable/gotchas.html?#label-based-slicing-conventions)\n",
    "\n",
    "Visualize data by generating plots:\n",
    "  * [Plotting](http://pandas.pydata.org/pandas-docs/stable/visualization.html)\n",
    "  * [pandas.DataFrame.plot](http://pandas.pydata.org/pandas-docs/stable/generated/pandas.DataFrame.plot.html)\n",
    "  * [matplotlib.pyplot.plot](https://matplotlib.org/api/pyplot_api.html#matplotlib.pyplot.plot)"
   ]
  },
  {
   "cell_type": "markdown",
   "metadata": {},
   "source": [
    "### 3. Data in CSV files\n",
    "\n",
    "**CSV** files or **C**omma **S**eparated **V**alues, are plain text files that are made up of a header to define a set of columns, and some data rows. Also each column represanting a variable can be ploted independently to visualize the behaviour of the variable as recorded in the file.\n",
    "\n",
    "For example:\n",
    "\n",
    "![CSV file example](./img/L_01-01_3.png)\n",
    "\n"
   ]
  },
  {
   "cell_type": "markdown",
   "metadata": {},
   "source": [
    "### 4. Quiz: Which fields should be in a CSV file?\n",
    "\n",
    "![Which fields should be in a CSV file?](./img/L_01-01_4.png)\n",
    "\n",
    "The number of emplowees, the company name and the company hometown are not stock values that we should find in a CSV file because they are not historical data or financial data, but we can find date and time and also the price of the stock in function of time."
   ]
  },
  {
   "cell_type": "markdown",
   "metadata": {},
   "source": [
    "### 5. Real stock data\n",
    "\n",
    "The stock data we will be working with will contain the following information:\n",
    "\n",
    "* **Date:** Which date is the information for.\n",
    "* **Open:** Price of the stock at the stock market open time.\n",
    "* **High:** Highest price throughout the day.\n",
    "* **Low:** Lowest price throughout the day.\n",
    "* **Close:** Price of the stock at the stock market close time.\n",
    "* **Volume:** How many shares of the stock were traded alltogether on that day.\n",
    "* **Adj Close:** A litle different from the close value, it is adjusted for stock splits and dividen payments.\n",
    "\n",
    "![Real stock data looks like this](./img/L_01-01_5.png)\n"
   ]
  },
  {
   "cell_type": "markdown",
   "metadata": {},
   "source": [
    "### 6. Pandas dataframe\n",
    "\n",
    "Library created by **Wes McKinney** ata hedge fund call **AQR**. It is used by many hedge funds and people in finance industry.\n",
    "\n",
    "One of the key components of **Pandas** is the **Dataframe**. It´s standard layout represents symbols in the stock market as columns, and time represented by rows.\n",
    "\n",
    "Sometimes unexpected values might be found (for example **NaN**, which stands for Not a Number), this is a way to tell Python that the information of that symbol in that instant of time does not exist or is not known, and later it has to be handled correctly.\n",
    "\n",
    "As every 2D dataframe represents the value of a variable, for every symbol, at an instant in time, we can group more matrices like this for other vairables, creating a 3D matrix.\n",
    "\n",
    "![Pandas dataframe](./img/L_01-01_6.png)"
   ]
  },
  {
   "cell_type": "markdown",
   "metadata": {},
   "source": [
    "### 7. Example CSV file\n",
    "\n",
    "In this example CSV file, the data is given in the reverse order, so later we will learn how to fix that.\n",
    "\n",
    "![Example CSV file](./img/L_01-01_7.png)"
   ]
  },
  {
   "cell_type": "markdown",
   "metadata": {},
   "source": [
    "### 8. Quiz: Read CSV\n",
    "\n",
    "Documentation: \n",
    "  * [pandas.DataFrame.head](http://pandas.pydata.org/pandas-docs/stable/generated/pandas.DataFrame.head.html)\n",
    "\n",
    "Instructions:\n",
    "  * Replace the TODO comment with code to print the last 5 rows of the DataFrame df.\n",
    "  \n",
    "Documentation: \n",
    "  * [pandas.DataFrame.tail](http://pandas.pydata.org/pandas-docs/stable/generated/pandas.DataFrame.tail.html)\n",
    "\n",
    "To download the data go to [Yahoo Finance - APPL History Prices](https://finance.yahoo.com/quote/AAPL/history?p=AAPL)"
   ]
  },
  {
   "cell_type": "code",
   "execution_count": 1,
   "metadata": {},
   "outputs": [
    {
     "name": "stdout",
     "output_type": "stream",
     "text": [
      "Showing Head of file\n",
      "         Date      Open      High       Low     Close  Adj Close    Volume\n",
      "0  2001-11-27  1.514286  1.537143  1.464286  1.500000   1.004494  67138400\n",
      "1  2001-11-28  1.489286  1.515000  1.457857  1.466429   0.982013  62652800\n",
      "2  2001-11-29  1.471429  1.478571  1.442143  1.458571   0.976751  50691200\n",
      "3  2001-11-30  1.462143  1.531429  1.446429  1.521429   1.018844  75978000\n",
      "4  2001-12-03  1.504286  1.520000  1.471429  1.503571   1.006886  45291400\n",
      "\n",
      "Showing Tail of file\n",
      "            Date        Open        High         Low       Close   Adj Close  \\\n",
      "4275  2018-11-19  190.000000  190.699997  184.990005  185.860001  185.860001   \n",
      "4276  2018-11-20  178.369995  181.470001  175.509995  176.979996  176.979996   \n",
      "4277  2018-11-21  179.729996  180.270004  176.550003  176.779999  176.779999   \n",
      "4278  2018-11-23  174.940002  176.600006  172.100006  172.289993  172.289993   \n",
      "4279  2018-11-26  174.240005  174.949997  170.259995  174.619995  174.619995   \n",
      "\n",
      "        Volume  \n",
      "4275  41925300  \n",
      "4276  67825200  \n",
      "4277  31124200  \n",
      "4278  23624000  \n",
      "4279  44738600  \n"
     ]
    }
   ],
   "source": [
    "import pandas as pd\n",
    "\n",
    "def test_run_head():\n",
    "    df = pd.read_csv('data/AAPL.csv')\n",
    "    print df.head()\n",
    "\n",
    "def test_run_tail():\n",
    "    df = pd.read_csv('data/AAPL.csv')\n",
    "    print df.tail()\n",
    "\n",
    "print 'Showing Head of file'\n",
    "test_run_head()\n",
    "\n",
    "print ''\n",
    "\n",
    "print 'Showing Tail of file'\n",
    "test_run_tail()"
   ]
  },
  {
   "cell_type": "markdown",
   "metadata": {},
   "source": [
    "### 9. Select rows\n",
    "\n",
    "Method to visualize an interval of rows of the dataframe"
   ]
  },
  {
   "cell_type": "code",
   "execution_count": 2,
   "metadata": {},
   "outputs": [
    {
     "name": "stdout",
     "output_type": "stream",
     "text": [
      "Showing Interval of file [10, 20]\n",
      "          Date      Open      High       Low     Close  Adj Close    Volume\n",
      "10  2001-12-11  1.619286  1.632143  1.546429  1.555714   1.041804  51368800\n",
      "11  2001-12-12  1.562143  1.565714  1.517857  1.535000   1.027932  48115200\n",
      "12  2001-12-13  1.535000  1.539286  1.464286  1.500000   1.004494  49460600\n",
      "13  2001-12-14  1.480714  1.487857  1.435000  1.456429   0.975316  47471200\n",
      "14  2001-12-17  1.457143  1.500000  1.442143  1.472857   0.986318  43428000\n",
      "15  2001-12-18  1.492143  1.523571  1.444286  1.500714   1.004973  58809800\n",
      "16  2001-12-19  1.470000  1.548571  1.462143  1.544286   1.034151  72489200\n",
      "17  2001-12-20  1.528571  1.533571  1.472857  1.476429   0.988709  55216000\n",
      "18  2001-12-21  1.500714  1.538571  1.485714  1.500000   1.004494  64083600\n",
      "19  2001-12-24  1.492857  1.532143  1.492857  1.525714   1.021714  12657400\n",
      "20  2001-12-26  1.525000  1.592857  1.510000  1.535000   1.027932  36600200\n"
     ]
    }
   ],
   "source": [
    "def test_run_interval():\n",
    "    df = pd.read_csv('data/AAPL.csv')\n",
    "    print df[10:21]\n",
    "\n",
    "print 'Showing Interval of file [10, 20]'\n",
    "test_run_interval()\n"
   ]
  },
  {
   "cell_type": "markdown",
   "metadata": {},
   "source": [
    "### 10. Compute max closing price\n",
    "\n",
    "Compute the maximum close price of a stock using Pandas.\n",
    "\n",
    "To download the data go to [Yahoo Finance - IBM History Prices](https://finance.yahoo.com/quote/IBM/history?p=IBM)"
   ]
  },
  {
   "cell_type": "code",
   "execution_count": 3,
   "metadata": {},
   "outputs": [
    {
     "name": "stdout",
     "output_type": "stream",
     "text": [
      "Max Close\n",
      "AAPL 232.07000699999998\n",
      "Max Close\n",
      "IBM 215.80000299999998\n"
     ]
    }
   ],
   "source": [
    "def get_max_close(symbol):\n",
    "    '''\n",
    "    Return the maximum closing value for stock indicated by symbol.\n",
    "    '''\n",
    "    df = pd.read_csv('data/{}.csv'.format(symbol)) # read input data\n",
    "    return df['Close'].max() # Compute and return maximum close price\n",
    "\n",
    "def test_run_symbols():\n",
    "    '''\n",
    "    Function called to run this test\n",
    "    '''\n",
    "    for symbol in ['AAPL', 'IBM']:\n",
    "        print 'Max Close'\n",
    "        print symbol, get_max_close(symbol)\n",
    "\n",
    "test_run_symbols()"
   ]
  },
  {
   "cell_type": "markdown",
   "metadata": {},
   "source": [
    "### 11. Quiz: Compute mean volume\n",
    "\n",
    "Calculate the mean volume for each given symbol."
   ]
  },
  {
   "cell_type": "code",
   "execution_count": 4,
   "metadata": {},
   "outputs": [
    {
     "name": "stdout",
     "output_type": "stream",
     "text": [
      "Mean Volume\n",
      "AAPL 120984668.154\n",
      "Mean Volume\n",
      "IBM 6043753.24766\n"
     ]
    }
   ],
   "source": [
    "def get_mean_volume(symbol):\n",
    "    '''\n",
    "    Return the mean volume value for stock indicated by symbol.\n",
    "    '''\n",
    "    df = pd.read_csv('data/{}.csv'.format(symbol)) # read input data\n",
    "    return df['Volume'].mean() # Compute and return maximum close price\n",
    "\n",
    "def test_run_symbols_mean():\n",
    "    '''\n",
    "    Function called to run this test\n",
    "    '''\n",
    "    for symbol in ['AAPL', 'IBM']:\n",
    "        print 'Mean Volume'\n",
    "        print symbol, get_mean_volume(symbol)\n",
    "\n",
    "test_run_symbols_mean()"
   ]
  },
  {
   "cell_type": "markdown",
   "metadata": {},
   "source": [
    "### 12. Plotting stock price data\n",
    "\n",
    "Example to plot APPL's adjusted close."
   ]
  },
  {
   "cell_type": "code",
   "execution_count": 12,
   "metadata": {},
   "outputs": [
    {
     "name": "stdout",
     "output_type": "stream",
     "text": [
      "0         1.004494\n",
      "1         0.982013\n",
      "2         0.976751\n",
      "3         1.018844\n",
      "4         1.006886\n",
      "5         1.071460\n",
      "6         1.136514\n",
      "7         1.089637\n",
      "8         1.078157\n",
      "9         1.078157\n",
      "10        1.041804\n",
      "11        1.027932\n",
      "12        1.004494\n",
      "13        0.975316\n",
      "14        0.986318\n",
      "15        1.004973\n",
      "16        1.034151\n",
      "17        0.988709\n",
      "18        1.004494\n",
      "19        1.021714\n",
      "20        1.027932\n",
      "21        1.055676\n",
      "22        1.072895\n",
      "23        1.047544\n",
      "24        1.114510\n",
      "25        1.127903\n",
      "26        1.133165\n",
      "27        1.095377\n",
      "28        1.081505\n",
      "29        1.035586\n",
      "           ...    \n",
      "4250    216.604233\n",
      "4251    221.377563\n",
      "4252    220.420914\n",
      "4253    215.268890\n",
      "4254    218.547455\n",
      "4255    219.882782\n",
      "4256    221.955551\n",
      "4257    214.342117\n",
      "4258    219.035751\n",
      "4259    215.547913\n",
      "4260    211.502045\n",
      "4261    212.558350\n",
      "4262    218.099014\n",
      "4263    221.447327\n",
      "4264    206.758575\n",
      "4265    200.889053\n",
      "4266    203.061493\n",
      "4267    209.219986\n",
      "4268    208.490005\n",
      "4269    204.470001\n",
      "4270    194.169998\n",
      "4271    192.229996\n",
      "4272    186.800003\n",
      "4273    191.410004\n",
      "4274    193.529999\n",
      "4275    185.860001\n",
      "4276    176.979996\n",
      "4277    176.779999\n",
      "4278    172.289993\n",
      "4279    174.619995\n",
      "Name: Adj Close, Length: 4280, dtype: float64\n"
     ]
    },
    {
     "data": {
      "image/png": "[encoded data removed]",
      "text/plain": [
       "<matplotlib.figure.Figure at 0xa90e438>"
      ]
     },
     "metadata": {},
     "output_type": "display_data"
    }
   ],
   "source": [
    "import matplotlib.pyplot as plt\n",
    "\n",
    "def test_run_plot():\n",
    "    df = pd.read_csv('data/AAPL.csv')\n",
    "    print df['Adj Close']\n",
    "    df['Adj Close'].plot()\n",
    "    plt.show()\n",
    "    \n",
    "test_run_plot()"
   ]
  },
  {
   "cell_type": "markdown",
   "metadata": {},
   "source": [
    "### 13. Quiz: Plot High prices for IBM\n",
    "\n",
    "Hint: Select the 'High' column from the dataframe and plot it.\n",
    "\n",
    "Bonus: Add a title and axis labels (see [matplotlib.pyplot tutorial](https://matplotlib.org/users/pyplot_tutorial.html#working-with-text))."
   ]
  },
  {
   "cell_type": "code",
   "execution_count": 6,
   "metadata": {},
   "outputs": [
    {
     "data": {
      "image/png": "[encoded data removed]",
      "text/plain": [
       "<matplotlib.figure.Figure at 0x9668470>"
      ]
     },
     "metadata": {},
     "output_type": "display_data"
    }
   ],
   "source": [
    "def test_run_plot_quiz():\n",
    "    df = pd.read_csv(\"data/IBM.csv\")\n",
    "    df['High'].plot()\n",
    "    plt.xlabel('Row in file')\n",
    "    plt.ylabel('High values')\n",
    "    plt.title('High prices for IBM')\n",
    "    plt.show()  # must be called to show plots\n",
    "\n",
    "test_run_plot_quiz()"
   ]
  },
  {
   "cell_type": "markdown",
   "metadata": {},
   "source": [
    "### 14. Plot two columns\n",
    "\n",
    "Example to plot two columns simultaniously in the same graph."
   ]
  },
  {
   "cell_type": "code",
   "execution_count": 7,
   "metadata": {},
   "outputs": [
    {
     "data": {
      "image/png": "[encoded data removed]",
      "text/plain": [
       "<matplotlib.figure.Figure at 0x9668438>"
      ]
     },
     "metadata": {},
     "output_type": "display_data"
    }
   ],
   "source": [
    "def test_run_plot_two_columns():\n",
    "    df = pd.read_csv(\"data/IBM.csv\")\n",
    "    df[['Open', 'Adj Close']].plot()\n",
    "    plt.show()  # must be called to show plots\n",
    "\n",
    "test_run_plot_two_columns()"
   ]
  },
  {
   "cell_type": "markdown",
   "metadata": {},
   "source": [
    "## Lesson 01-02: Working with multiple stocks"
   ]
  },
  {
   "cell_type": "markdown",
   "metadata": {},
   "source": [
    "### 1. Working with Multiple Stocks\n",
    "\n",
    "Are you a Juggler?\n",
    "![Working with multiple stocks](./img/L_01-02_1.png)\n"
   ]
  },
  {
   "cell_type": "markdown",
   "metadata": {},
   "source": [
    "### 2. Lesson Outline\n",
    "\n",
    "Here's an overview of what you'll learn to do in this lesson. Documentation links are for reference.\n",
    "Read in multiple stocks:\n",
    "\n",
    "  * Create an empty [pandas.DataFrame](http://pandas.pydata.org/pandas-docs/stable/generated/pandas.DataFrame.html) with dates as index: [pandas.date_range](http://pandas.pydata.org/pandas-docs/stable/generated/pandas.date_range.html)\n",
    "  * Drop missing date rows: [pandas.DataFrame.dropna](http://pandas.pydata.org/pandas-docs/stable/generated/pandas.DataFrame.dropna.html)\n",
    "  * Incrementally join data for each stock: [pandas.DataFrame.join](http://pandas.pydata.org/pandas-docs/stable/generated/pandas.DataFrame.join.html)\n",
    "\n",
    "Manipulate stock data:\n",
    "\n",
    "  * [Index and select data](http://pandas.pydata.org/pandas-docs/stable/indexing.html) by row (dates) and column (symbols)\n",
    "  * Plot multiple stocks at once (still using [pandas.DataFrame.plot](http://pandas.pydata.org/pandas-docs/stable/generated/pandas.DataFrame.plot.html))\n",
    "  * Carry out arithmetic operations across stocks"
   ]
  },
  {
   "cell_type": "markdown",
   "metadata": {},
   "source": [
    "### 3. Pandas Dataframe\n",
    "\n",
    "To refresh the memory, Pandas dataframes are two-dimensional size-mutable, potentially heterogeneous tabular data structures with labeled axes (rows and columns).\n",
    "\n",
    "In the context of multiple stocks information, columns will represent each stock or symbol, and the rows will represent time.\n",
    "\n",
    "![Pandas dataframe](./img/L_01-02_2.png)"
   ]
  },
  {
   "cell_type": "markdown",
   "metadata": {},
   "source": [
    "### 4. Problems to Solve\n",
    "\n",
    "Some issues must be taken into account when loading quantitative information of multiple stocks into a Pandas dataframe, this are:\n",
    "\n",
    "  * **Date Ranges:** The difference between the initial and the final date registered for a given variable, and also the amount of dates when it was recorded.\n",
    "  * **Multiple Stocks:** This variable will be recorded for a certain amounts of stocks on each date.\n",
    "  * **Align Dates:** For every stock, the value of the variable being analysed must belong to the actual date related to the row it is created.\n",
    "  * **Proper Date Order:** Older values should be writen in the rows of the top, and the newer will exist at the end rows of the dataframe.\n",
    "\n",
    "![Problems to solve](./img/L_01-02_3.png)"
   ]
  },
  {
   "cell_type": "markdown",
   "metadata": {},
   "source": [
    "### 5. Quiz: NYSE trading days\n",
    "\n",
    "![Problems to solve](./img/L_01-02_4.png)\n",
    "\n",
    "Weekends and holydays are not trading days, so this dates are not relevant for this count."
   ]
  },
  {
   "cell_type": "markdown",
   "metadata": {},
   "source": [
    "### 6. Building a Dataframe\n",
    "\n",
    "[S&P 500](https://en.wikipedia.org/wiki/S%26P_500_Index) is a stock market index based on 500 large American companies listed on the NYSE or NASDAQ. Think of it as a weighted mean of the stock prices of the companies, where the number of shares are used as weights (with some adjustment for any events that may affect apparent stock value, such as splits).\n",
    "\n",
    "For many many examples and comparissons, the data for \"SPY\" will be used, because it is a good overall reference of the state of the stoks market.\n",
    "\n",
    "![Building a Dataframe](./img/L_01-02_5.png)"
   ]
  },
  {
   "cell_type": "markdown",
   "metadata": {},
   "source": [
    "### 7. \"Joinning\" Dataframes\n",
    "\n",
    "Pandas dataframes let us do joins between two dataframes, generating a new dataframe based on the union of the two initial dataframes, as it is shown in the nex example, where, for each date that SPY and IBM have, a resulting dataframe with both stocks included is generated.\n",
    "\n",
    "![Joinning Dataframes](./img/L_01-02_6.png)"
   ]
  },
  {
   "cell_type": "markdown",
   "metadata": {},
   "source": [
    "### 8. Create an Empty Dataframe"
   ]
  },
  {
   "cell_type": "code",
   "execution_count": 8,
   "metadata": {},
   "outputs": [
    {
     "name": "stdout",
     "output_type": "stream",
     "text": [
      "Empty DataFrame\n",
      "Columns: []\n",
      "Index: [2018-01-22 00:00:00, 2018-01-23 00:00:00, 2018-01-24 00:00:00, 2018-01-25 00:00:00, 2018-01-26 00:00:00, 2018-01-27 00:00:00, 2018-01-28 00:00:00, 2018-01-29 00:00:00, 2018-01-30 00:00:00, 2018-01-31 00:00:00]\n"
     ]
    }
   ],
   "source": [
    "def test_new_empty_df():\n",
    "    start_date = '2018-01-22'\n",
    "    end_date = '2018-01-31'\n",
    "    dates = pd.date_range(start_date, end_date)\n",
    "    df1 = pd.DataFrame(index=dates)\n",
    "    return df1\n",
    "\n",
    "df = test_new_empty_df()\n",
    "print df"
   ]
  },
  {
   "cell_type": "markdown",
   "metadata": {},
   "source": [
    "### 9. Join SPY data"
   ]
  },
  {
   "cell_type": "code",
   "execution_count": 9,
   "metadata": {},
   "outputs": [
    {
     "name": "stdout",
     "output_type": "stream",
     "text": [
      "                   SPY\n",
      "2018-01-22  279.040497\n",
      "2018-01-23  279.632751\n",
      "2018-01-24  279.524170\n",
      "2018-01-25  279.642609\n",
      "2018-01-26  282.880249\n",
      "2018-01-29  281.004761\n",
      "2018-01-30  278.122528\n",
      "2018-01-31  278.260712\n"
     ]
    }
   ],
   "source": [
    "def test_join_spy():\n",
    "    # Time interval\n",
    "    start_date = '2018-01-22'\n",
    "    end_date = '2018-01-31'\n",
    "    #Empty dataframe\n",
    "    dates = pd.date_range(start_date, end_date)\n",
    "    df1 = pd.DataFrame(index=dates)\n",
    "    # Add SPY Adj Close for each date from CSV\n",
    "    dfSPY = pd.read_csv('data/SPY.csv', index_col='Date', parse_dates=True, \n",
    "                        usecols=['Date', 'Adj Close'], na_values=['nan'])\n",
    "    # Rename 'Adj Close' to SPY\n",
    "    dfSPY = dfSPY.rename(columns={'Adj Close': 'SPY'})\n",
    "    # Join the two dataframes using inner\n",
    "    df = df1.join(dfSPY, how='inner')\n",
    "    df = df.dropna()\n",
    "    print df\n",
    "    \n",
    "test_join_spy()"
   ]
  },
  {
   "cell_type": "markdown",
   "metadata": {},
   "source": [
    "### 10. Quiz: Types of \"Joins\"\n",
    "\n",
    "What is the command to reatin only the data that is common to two dataframes?\n",
    "\n",
    "![Joinning Dataframes](./img/L_01-02_7.png)"
   ]
  },
  {
   "cell_type": "markdown",
   "metadata": {},
   "source": [
    "### 11. Read in More Stocks"
   ]
  },
  {
   "cell_type": "code",
   "execution_count": 10,
   "metadata": {},
   "outputs": [
    {
     "name": "stdout",
     "output_type": "stream",
     "text": [
      "                   SPY         GOOG         IBM        AAPL         GLD\n",
      "2018-01-22  279.040497  1155.810059  155.563538  174.381973  126.650002\n",
      "2018-01-23  279.632751  1169.969971  159.055573  174.421387  127.279999\n",
      "2018-01-24  279.524170  1164.239990  158.213669  171.643082  128.830002\n",
      "2018-01-25  279.642609  1170.369995  158.309341  168.579086  127.970001\n",
      "2018-01-26  282.880249  1175.839966  160.098419  168.973175  128.070007\n",
      "2018-01-29  281.004761  1175.579956  159.581787  165.475677  127.349998\n",
      "2018-01-30  278.122528  1163.689941  156.539383  164.500336  126.800003\n",
      "2018-01-31  278.260712  1169.939941  156.615936  164.953522  127.650002\n"
     ]
    }
   ],
   "source": [
    "def test_join_multiple():\n",
    "    # Time interval\n",
    "    start_date = '2018-01-22'\n",
    "    end_date = '2018-01-31'\n",
    "    #Empty dataframe\n",
    "    dates = pd.date_range(start_date, end_date)\n",
    "    df = pd.DataFrame(index=dates)\n",
    "    # Read all stocks\n",
    "    symbols = ['SPY', 'GOOG', 'IBM', 'AAPL', 'GLD']\n",
    "    for symbol in symbols:\n",
    "        tmp_df = pd.read_csv('data/%s.csv'%(symbol), index_col='Date', parse_dates=True, \n",
    "                             usecols=['Date', 'Adj Close'], na_values=['nan'])\n",
    "        # Rename 'Adj Close' to symbol\n",
    "        tmp_df = tmp_df.rename(columns={'Adj Close': symbol})\n",
    "        # Join the two dataframes using inner\n",
    "        df = df.join(tmp_df, how='inner')\n",
    "    df = df.dropna()\n",
    "    print df\n",
    "    \n",
    "test_join_multiple()"
   ]
  },
  {
   "cell_type": "markdown",
   "metadata": {},
   "source": [
    "### 12. Utility Functions for Reading Data "
   ]
  },
  {
   "cell_type": "code",
   "execution_count": 11,
   "metadata": {},
   "outputs": [
    {
     "name": "stdout",
     "output_type": "stream",
     "text": [
      "                   SPY         GOOG         IBM        AAPL         GLD\n",
      "2018-01-22  279.040497  1155.810059  155.563538  174.381973  126.650002\n",
      "2018-01-23  279.632751  1169.969971  159.055573  174.421387  127.279999\n",
      "2018-01-24  279.524170  1164.239990  158.213669  171.643082  128.830002\n",
      "2018-01-25  279.642609  1170.369995  158.309341  168.579086  127.970001\n",
      "2018-01-26  282.880249  1175.839966  160.098419  168.973175  128.070007\n"
     ]
    }
   ],
   "source": [
    "import os\n",
    "\n",
    "def symbol_to_path(symbol, base_dir=\"data\"):\n",
    "    \"\"\"Return CSV file path given ticker symbol.\"\"\"\n",
    "    return os.path.join(base_dir, \"{}.csv\".format(str(symbol)))\n",
    "\n",
    "def get_data(symbols, dates):\n",
    "    \"\"\"Read stock data (adjusted close) for given symbols from CSV files.\"\"\"\n",
    "    df = pd.DataFrame(index=dates)\n",
    "    if 'SPY' not in symbols:  # add SPY for reference, if absent\n",
    "        symbols.insert(0, 'SPY')\n",
    "    for symbol in symbols:\n",
    "        other = pd.read_csv(symbol_to_path(symbol), index_col='Date',\n",
    "                            parse_dates=True, usecols=['Date', 'Adj Close'],\n",
    "                            na_values=['nan'])\n",
    "        other = other.rename(columns={'Adj Close': symbol})\n",
    "        df = df.join(other, how='inner')\n",
    "    return df\n",
    "\n",
    "def test_run_multistocks():\n",
    "    # Define a date range\n",
    "    dates = pd.date_range('2018-01-22', '2018-01-26')\n",
    "    # Choose stock symbols to read\n",
    "    symbols = ['GOOG', 'IBM', 'AAPL', 'GLD']\n",
    "    # Get stock data\n",
    "    df = get_data(symbols, dates)\n",
    "    print df\n",
    "    return df\n",
    "\n",
    "df = test_run_multistocks()"
   ]
  },
  {
   "cell_type": "markdown",
   "metadata": {},
   "source": [
    "### 13. Obtaining a Slice of Data\n",
    "\n",
    "Pandas dataframes also allow to get subsets of the tables and the values, in the following image there is an example on how to create a dataframe from a subset of rows and columns from another dataframe.\n",
    "\n",
    "![Joinning Dataframes](./img/L_01-02_8.png)"
   ]
  },
  {
   "cell_type": "markdown",
   "metadata": {},
   "source": [
    "### 14. More Slicing"
   ]
  },
  {
   "cell_type": "code",
   "execution_count": 129,
   "metadata": {},
   "outputs": [
    {
     "name": "stdout",
     "output_type": "stream",
     "text": [
      "                   SPY         IBM\n",
      "2018-01-22  279.040497  155.563538\n",
      "2018-01-23  279.632751  159.055573\n",
      "2018-01-24  279.524170  158.213669\n"
     ]
    }
   ],
   "source": [
    "def test_run_multistocks_sliced():\n",
    "    # Define a date range\n",
    "    dates = pd.date_range('2018-01-22', '2018-01-26')\n",
    "    # Choose stock symbols to read\n",
    "    symbols = ['GOOG', 'IBM', 'AAPL', 'GLD']\n",
    "    # Get stock data\n",
    "    df = get_data(symbols, dates)\n",
    "    print df.loc['2018-01-22':'2018-01-24', ['SPY', 'IBM']]\n",
    "\n",
    "test_run_multistocks_sliced()"
   ]
  },
  {
   "cell_type": "markdown",
   "metadata": {},
   "source": [
    "### 15. Problems with Plotting\n",
    "\n",
    "Sometimes the ranges of the data of stocks being plotted simultaniously generates some visual difficulties.\n",
    "\n",
    "![Problems with plotting](./img/L_01-02_9.png)\n",
    "\n",
    "Ideally we would like the data to begin at a same point ($1.0$) and to see how is the variation of the variable in function of time.\n",
    "\n",
    "![Problems with plotting](./img/L_01-02_10.png)\n"
   ]
  },
  {
   "cell_type": "markdown",
   "metadata": {},
   "source": [
    "### 16. Quiz: How to plot on \"equal footing\"?\n",
    "\n",
    "![Problems with plotting](./img/L_01-02_11.png)\n",
    "\n",
    "Both methods do the task, but in Python, the second method is faster"
   ]
  },
  {
   "cell_type": "markdown",
   "metadata": {},
   "source": [
    "### 17. Plotting Multiple Stocks"
   ]
  },
  {
   "cell_type": "code",
   "execution_count": 130,
   "metadata": {},
   "outputs": [
    {
     "data": {
      "image/png": "[encoded data removed]",
      "text/plain": [
       "<matplotlib.figure.Figure at 0xa20ae48>"
      ]
     },
     "metadata": {},
     "output_type": "display_data"
    }
   ],
   "source": [
    "def plot_data(df, title='Stock prices'):\n",
    "    '''Plot stock prices'''\n",
    "    ax = df.plot(title=title, fontsize=2)\n",
    "    ax.set_xlabel('Date')\n",
    "    ax.set_ylabel('Price')\n",
    "    plt.show()\n",
    "    \n",
    "plot_data(df)"
   ]
  },
  {
   "cell_type": "markdown",
   "metadata": {},
   "source": [
    "### . "
   ]
  },
  {
   "cell_type": "code",
   "execution_count": 131,
   "metadata": {},
   "outputs": [
    {
     "data": {
      "image/png": "[encoded data removed]",
      "text/plain": [
       "<matplotlib.figure.Figure at 0xc95f5c0>"
      ]
     },
     "metadata": {},
     "output_type": "display_data"
    }
   ],
   "source": [
    "def plot_selected(df, columns, start_index, end_index):\n",
    "    \"\"\"Plot the desired columns over index values in the given range.\"\"\"\n",
    "    plot_data(df.loc[start_index:end_index, columns])\n",
    "\n",
    "def test_run_multistock_plot():\n",
    "    # Define a date range\n",
    "    dates = pd.date_range('2018-01-01', '2018-10-31')\n",
    "    # Choose stock symbols to read\n",
    "    symbols = ['GOOG', 'IBM', 'GLD', 'AAPL']  # SPY will be added in get_data()\n",
    "    # Get stock data\n",
    "    df = get_data(symbols, dates)\n",
    "    # Slice and plot\n",
    "    plot_selected(df, ['SPY', 'IBM'], '2018-03-01', '2018-04-01')\n",
    "\n",
    "test_run_multistock_plot()"
   ]
  },
  {
   "cell_type": "markdown",
   "metadata": {},
   "source": [
    "### 19. Normalizing"
   ]
  },
  {
   "cell_type": "code",
   "execution_count": 132,
   "metadata": {},
   "outputs": [
    {
     "data": {
      "image/png": "[encoded data removed]",
      "text/plain": [
       "<matplotlib.figure.Figure at 0xc95f748>"
      ]
     },
     "metadata": {},
     "output_type": "display_data"
    }
   ],
   "source": [
    "def normalize_data(df):\n",
    "    '''Normalize stock prices using the first row of the dataframe'''\n",
    "    '''\n",
    "    h, w = df.shape\n",
    "    for i in range(1, h):\n",
    "        for j in range(w):\n",
    "            df.iloc[i, j] = df.iloc[i, j]/df.iloc[0, j]\n",
    "    return df\n",
    "    '''\n",
    "    return df/df.iloc[0,:]\n",
    "            \n",
    "\n",
    "def test_run_multistock_plot_normalized():\n",
    "    # Define a date range\n",
    "    dates = pd.date_range('2018-01-01', '2018-10-31')\n",
    "    # Choose stock symbols to read\n",
    "    symbols = ['GOOG', 'IBM', 'GLD', 'AAPL']  # SPY will be added in get_data()\n",
    "    # Get stock data\n",
    "    df = get_data(symbols, dates)\n",
    "    # Normmalize dataframe\n",
    "    df = normalize_data(df)\n",
    "    # Slice and plot\n",
    "    plot_selected(df, symbols, '2018-03-01', '2018-04-01')\n",
    "\n",
    "test_run_multistock_plot_normalized()"
   ]
  },
  {
   "cell_type": "markdown",
   "metadata": {},
   "source": [
    "### 20. Lesson summary\n",
    "\n",
    "To read multiple stocks into a single dataframe, you need to:\n",
    "  * Specify a set of dates using [pandas.date_range](http://pandas.pydata.org/pandas-docs/stable/generated/pandas.date_range.html)\n",
    "  * Create an empty dataframe with dates as index\n",
    "    * This helps align stock data and orders it by trading date\n",
    "  * Read in a reference stock (here SPY) and drop non-trading days using [pandas.DataFrame.dropna](http://pandas.pydata.org/pandas-docs/stable/generated/pandas.DataFrame.html)\n",
    "  * Incrementally join dataframes using [pandas.DataFrame.join](http://pandas.pydata.org/pandas-docs/stable/generated/pandas.DataFrame.join.html)\n",
    "\n",
    "Once you have multiple stocks, you can:\n",
    "  * Select a subset of stocks by ticker symbols\n",
    "  * Slice by row (dates) and column (symbols)\n",
    "  * Plot multiple stocks at once (still using [pandas.DataFrame.plot](http://pandas.pydata.org/pandas-docs/stable/generated/pandas.DataFrame.plot.html))\n",
    "  * Carry out arithmetic operations across stocks, e.g. normalize by the first day's price\n"
   ]
  },
  {
   "cell_type": "markdown",
   "metadata": {},
   "source": [
    "## Lesson 02-02: Market Mechanics"
   ]
  },
  {
   "cell_type": "markdown",
   "metadata": {},
   "source": [
    "### 1. Overview\n",
    "\n",
    "If you have ever tried trading stocks using platforms like **E-Trade**, **Interactive Brokers**, **Quantopian**, among others.\n",
    "\n",
    "Have you ever wondered what happens when you click *BUY*?\n",
    "\n",
    "![What happens when you press buy?](./img/L_02-02_1.png)\n",
    "\n",
    "It's probably more complicated than you think."
   ]
  },
  {
   "cell_type": "markdown",
   "metadata": {},
   "source": [
    "### 2. What is in an Order?\n",
    "\n",
    "The way to buy stocks to hold into a portfolio is by issuing **orders**.\n",
    "\n",
    "Usually you send this orders to a stock broker to take care of the execution of them for you.\n",
    "\n",
    "An order is made of the following contents:\n",
    "\n",
    "![Contents of an order](./img/L_02-02_2.png)\n",
    "\n",
    " * Tell if your purpose is to buy or sell shares of a stock.\n",
    " * What's the symbol or stock you are going to buy or sell.\n",
    " * How many shares do you want to buy or sell.\n",
    " * Tell the broker if it is a limit (set a threshold to tell if you accept or not the deal) order or a market (you will accept whatever the price of a stock is set by the market) order.\n",
    " * If you are sending a limit order, you must tell what is the threshold for the stocks you are selling or buying.\n",
    " \n",
    "Here are a couple of examples:\n",
    "\n",
    "![Orders example](./img/L_02-02_3.png)\n",
    "\n",
    "The first one says **Buy** a **100** stocks from **IBM** with a **limit** price of **\\$99.95**.\n",
    "\n",
    "The second one says **Sell** a **150** stocks from **GOOG** for the price set by the market.\n"
   ]
  },
  {
   "cell_type": "markdown",
   "metadata": {},
   "source": [
    "### 3. The Order Book\n",
    "\n",
    "This is a key construct that most of exchanges use to keep daily record of stocks they buy or sell.\n",
    "\n",
    "![Order book](./img/L_02-02_4.png)\n",
    "\n",
    "Each column with the ID **BUY** represents an order of a client to buy an amount of stocks of the symbol of the given order book at a certain price (limit or market).\n",
    "\n",
    "Each column with the ID **ASK** represents an order of a client to sell an amount of stocks of the symbol of the given order book at a certain price (limit or market).\n",
    "\n",
    "With this tool it is easy for exchangers to make the transactions requested by their clients within a list of orders they accept daily.\n"
   ]
  },
  {
   "cell_type": "markdown",
   "metadata": {},
   "source": [
    "### 4. Quiz: Up or Down\n",
    "\n",
    "Given this book, will the stock price go up or down?\n",
    "\n",
    "![Up or down](./img/L_02-02_5.png)\n",
    "\n",
    "It will go down because there are more stocks being sold than being bought.\n"
   ]
  },
  {
   "cell_type": "markdown",
   "metadata": {},
   "source": [
    "### 5. How Orders Affect the Order Book\n",
    "\n",
    "The order book is a dynamic sorted list (buy prices and type of order), where a set of stocks of a symbol are being sold for different prices (as there may be limit or market orders), and this way the prices of the stock also change, this way every order that comes into an exchange and is executed, modifies the current state of the order book, the stock, and the market.\n",
    "\n",
    "For the previous order boook we will see the following evolution:\n",
    "\n",
    "![How orders affect the order book](./img/L_02-02_6.png)\n",
    "\n",
    "In a real-world case this is how an order book looks like:\n",
    "\n",
    "![Order book in real life](./img/L_02-02_7.png)\n",
    "\n",
    "The chart is showing the price of a stock through time, and on the right we can see the number of orders to buy shares of the stock, the limit or market price of the stock for each order and the orders to sell from shares from this stock."
   ]
  },
  {
   "cell_type": "markdown",
   "metadata": {},
   "source": [
    "### 6. How Orders Get to Exchange\n",
    "\n",
    "Let's say you are sending an order to a broker through internet, and you ordered to buy some stock. The broker is connected to several exchanges, and he determines where to route your order based on information he knows about the exchange. Let's suppose we are looking at *New York Stock Exchange* (NYSE), NASDAQ and BATS, each one of this exchanges has it's own order book. The broker has a computer located at each exchange and asks them for the current prices of the stock, then he routes your order with the exchange that has the best price, then the order gets executed and the price comes back to your broker, then back to you and you get a confirmation message.\n",
    "\n",
    "![Exchange example 1](./img/L_02-02_8.png)\n",
    "\n",
    "Let's consider another scenario, suppose there's another client (Joe) of the same brokerage, and he wants to sell some stock. The brokerage can do the transaction internally if they can supply the orders of the seller and the buyer with prices at leas as good as the price on the exchanges. At the end of the day this transaction has to be recorded at one of the exchanges, and usually it is registered at the exchange where the stock is homed.\n",
    "\n",
    "![Exchange example 2](./img/L_02-02_9.png)\n",
    "\n",
    "Let's consider one last example. Now there's another client (Lisa), and she wants to sell some stock, but she uses a different broker than you do. There is another entity called the **Dark Pool** that acts as an intermediary between brokerages and excahnges. The Dark Pool is looking at the order books of various exchanges and they're often predicting about which direction stocks are going to go. When they see and advantage to trade, they'll go ahead and take it, of course following the politics that the orders of the seller and the buyer are accomplished with prices at leas as good as the price on the exchanges.\n",
    "\n",
    "![Exchange example 3](./img/L_02-02_10.png)\n"
   ]
  },
  {
   "cell_type": "markdown",
   "metadata": {},
   "source": [
    "### 7. How Hedge Funds Exploit Market Mechanics\n",
    "\n",
    "Due to the fact that the connections through internet from remote distances to the computers of the exchanges represents some physical time, the information someone recieves at the other side of a USA, or let's say the other side of the world, may take some relevant time to arrive, this means that the information recieved by the client is old, and probably the prices of a stock are not any more the ones he expects.\n",
    "\n",
    "Whate hedge funds do is that they buy some stocks when they predict it is going up, and they keep it for sale at a higher price so you can buy them at the time this stocks have this price, this way they earn money over their investment, and this issue with the information is solved through them.\n",
    "\n",
    "![How hedge funds exploit market 1](./img/L_02-02_11.png)\n",
    "\n",
    "Another explanation of how hedge funds exploit the market mechanics is the following (geographic arbitrage exploit). When there are huge distance differences the prices may differ due to the time it takes to be published worldwide the state of a stock. hedge funds have servers located at exchanges all around the world and connect to them vian an ultra high speed dedicated connection. When the find that there is a  difference in the price of a stock in two distant exchanges, the fund will inmediatly buy stocks from the exchange which offers the lower price and sells them in the country where the price is higher. This way they get the adcantage in price inmediatly.\n",
    "\n",
    "![How hedge funds exploit market 2](./img/L_02-02_12.png)\n"
   ]
  },
  {
   "cell_type": "markdown",
   "metadata": {},
   "source": [
    "### 8. Additional Order Types\n",
    "\n",
    "This other type of orders are implemented by brokers.\n",
    "\n",
    "![Additional order types](./img/L_02-02_13.png)\n",
    "\n",
    " * Stop loss is an order that specifies that you want to sell a stock if it reaches a price **bellow** a certain value.\n",
    " * Stop gain similarly specifies that you want to sell a stock if it's price is **above** a certain value.\n",
    " * Trailing stop is a combination of stop loss with a dynamically changing value for when that criteria is met.\n",
    " * Sellin short is the most important, it allows you to take a negative position on a stock to sell it if the price of the stock will go down, without even owning the stocks.\n"
   ]
  },
  {
   "cell_type": "markdown",
   "metadata": {},
   "source": [
    "### 9. Mechanics of Short Selling: Entry\n",
    "\n",
    "Let´s suppose Joe wants to sell 100 shares from IBM at \\$100, Lisa wants to buy 100 stock from IBM, so you publish an *short selling* order that let´s you borrow the stocks from Joe and sell them to Lisa. Now in the correct terms, you owe Joe 100 shares of IBM, and you recieved \\$10,000 from Lisa. The problem there is that Joe may want his 100 shares back, and you will have to buy them latter, so if the price of the stock drops, you will have succeded, the problem is if it happens otherwise.\n",
    "\n",
    "![Mechanics of short selling](./img/L_02-02_14.png)"
   ]
  },
  {
   "cell_type": "markdown",
   "metadata": {},
   "source": [
    "### 10. Quiz: Short Selling\n",
    "\n",
    "![short selling IBM](./img/L_02-02_15.png)\n",
    "\n",
    "You will have earned \\$1,000 dollars from this short selling as you recieved \\$10,000 when you borrowed the shares, and payed \\$9,000 when you bought them for real, so the difference between both orders represents a total return of \\$1,000."
   ]
  },
  {
   "cell_type": "markdown",
   "metadata": {},
   "source": [
    "### 11. Mechanics of Short Selling: Exit\n",
    "\n",
    "So summing up the last two problems, after you borrowed 100 shares from Joe, sold them to Lisa, recieved \\$10,000 from her, bought 100 shares at \\$9,000 from Nate and gave them back to Joe, you earned \\$1,000 by doing this short selling.\n",
    "\n",
    "![Short selling exit](./img/L_02-02_16.png)\n"
   ]
  },
  {
   "cell_type": "markdown",
   "metadata": {},
   "source": [
    "### 12. What Can Go Wrong?\n",
    "\n",
    "In the case that after recieveng \\$10,000 for the shares you sold to Lisa, but then you have to spend \\$15,000 to buy them from Nate, then you lost \\$5,000. So it represents certainly a risk.\n",
    "\n",
    "![Short selling gone wrong](./img/L_02-02_17.png)\n"
   ]
  },
  {
   "cell_type": "markdown",
   "metadata": {},
   "source": [
    "## Lesson 02-06: Technical Analysis"
   ]
  },
  {
   "cell_type": "markdown",
   "metadata": {},
   "source": [
    "### 1. Technical VS Fundamental Analysis\n",
    "\n",
    "The two main categories for making decisions on buying or selling shares from a stock are **Technical Analysis** and **Fundamental Analysis**.\n",
    "\n",
    "**Fundamental analysis** involves looking at aspects of a company in order to estimate its value.\n",
    "\n",
    "**Technical analysis** is based on patterns or trends in the price of the stock."
   ]
  },
  {
   "cell_type": "markdown",
   "metadata": {},
   "source": [
    "### 2. Characteristics of Technical Analysis\n",
    "\n",
    "Technical analysis is only interested in the volume and the price of the stock through time. From this time series, we calculate some indicators, which are heuristics that may hint at a buy or sell oportunity. So let's make clear that this indicators are heuristic approaches to estimate the future price of a stock.\n",
    "\n",
    "![Characteristics of techincal analysis](./img/L_02-06_1.png)\n"
   ]
  },
  {
   "cell_type": "markdown",
   "metadata": {},
   "source": [
    "### 3. Quiz: Potential Indicators\n",
    "\n",
    "![potential indicators](./img/L_02-06_2.png)\n",
    "\n",
    "The first two options are related to the price and the volume of the stock, which is related to technical analysis. The other two are values related to the value of the company, which is of interest of the fundamental analysis."
   ]
  },
  {
   "cell_type": "markdown",
   "metadata": {},
   "source": [
    "### 4. When is Technical Analysis Valuable?\n",
    "\n",
    "![When is TA valuable](./img/L_02-06_3.png)\n"
   ]
  },
  {
   "cell_type": "markdown",
   "metadata": {},
   "source": [
    "### 5. When is Technical Analysis Valuable? (Part II)\n",
    "\n",
    "Technical analysis and fundamental analysis are both very interesting depending on many factors, on the following chart we can see that for trades that will occur in very long periods of time it is better to use fundamental analysis, and for decisions that occur very  frequently it is better technical analysis.\n",
    "\n",
    "That's why for this course it is better to talk about techincal analysis, because it is oriented to computational applications in financial decissions, and for that matter it is a better task for computers.\n",
    "\n",
    "![When is TA valuable 2](./img/L_02-06_4.png)\n"
   ]
  },
  {
   "cell_type": "markdown",
   "metadata": {},
   "source": [
    "### 6. A Few Good Indicators: Momentum\n",
    "\n",
    "**Momentum:** This is one of the simplest indicators. It tells for a certain number of days, how much has the value of the stock changed. The mathematical expression to calculate the momentum of a stock after $n$ days is:\n",
    "\n",
    "$$momentum[t] = \\frac{price[t]}{price[t-n]} - 1$$\n",
    "\n",
    "![When is TA valuable 2](./img/L_02-06_5.png)\n"
   ]
  },
  {
   "cell_type": "markdown",
   "metadata": {},
   "source": [
    "### 7. A Few Good Indicators: Simple Moving Average\n",
    "\n",
    "**Simple Moving Average:** We calculate the average of the price of the stock $n$ days before:\n",
    "\n",
    "$$SMA[t] = \\frac{price[t]}{price[t].avg(n)} - 1$$\n",
    "\n",
    "![When is TA valuable 2](./img/L_02-06_6.png)\n",
    "\n",
    "It is important to mention that when the momentum of a stock crosses the moving average, it is a signal to know that the price of the stock will rise or drop, and it is time to sell or buy.\n",
    "\n",
    "Other information to infere about it is that when the price is above the SMA, then it will tend to drop, or vice versa, so it may be a signal also to buy or sell shares of that stock.\n"
   ]
  },
  {
   "cell_type": "markdown",
   "metadata": {},
   "source": [
    "### 8. A Few Good Indicators: Bollinger bands\n",
    "\n",
    "**Bollinger bands:** These are two bands that indicate when the price of the stock is considaribly good to buy (if it is bellow the lower bolliner band), or it is good to sell (if it is above):\n",
    "\n",
    "$$BB[t] = \\frac{price[t]- SMA[t]}{2*price[t].std(n)} - 1$$\n",
    "\n",
    "![When is TA valuable 3](./img/L_02-06_7.png)"
   ]
  },
  {
   "cell_type": "markdown",
   "metadata": {},
   "source": [
    "### 9. Buy or Sell\n",
    "\n",
    "![When is TA valuable 3](./img/L_02-06_8.png)\n",
    "\n",
    "In the first case we are returning from above the BB to the center, so it is a sell signal, the second case shows how we are going from the center to bellow the BB, so it is not a signal, the third and the fourht cases it shows that we are comming back from bellow to the center, this means it is time to buy.\n"
   ]
  },
  {
   "cell_type": "markdown",
   "metadata": {},
   "source": [
    "### 10. Normalization\n",
    "\n",
    "As this indicators are related to individual metrics and scales, it is important to normalice each indicator in order to make them comparable.\n",
    "\n",
    "![Normalization](./img/L_02-06_9.png)\n"
   ]
  },
  {
   "cell_type": "markdown",
   "metadata": {},
   "source": [
    "### 11. Wrap Up\n",
    "\n",
    "The technical analysis is a heuristic method, eventhough it can be useful as professor Tucker showed in his chart about speed of decision and precision.\n",
    "\n",
    "We still need a lot to learn before we can start trading."
   ]
  },
  {
   "cell_type": "markdown",
   "metadata": {},
   "source": [
    "## Lesson 03-01: How Machine Learning is Used at a Hedge Fund"
   ]
  },
  {
   "cell_type": "markdown",
   "metadata": {},
   "source": [
    "### 1. Overview\n",
    "\n",
    "In this lesson we will learn how **hedge funds** and other financial institutions utilize **machine learning**.\n",
    "\n",
    "In general the focus is on creating a model that can be used to predict future prices for stocks or other assets.\n",
    "\n",
    "This models have been around for a long time, but what makes machine learning different is that it supports a **data-centric** way to build predictive models."
   ]
  },
  {
   "cell_type": "markdown",
   "metadata": {},
   "source": [
    "### 2. The Machine Learning Problem\n",
    "\n",
    "Machine learning algorithms are focused on building a **model**.\n",
    "\n",
    "A model is something that takes in some observations $x$, runs the information through some sort of process and provides a prediction $y$.\n",
    "\n",
    "For example $x$ are some features of a stock and $y$ is a future price.\n",
    "\n",
    "$x$ is in general multi dimensional, while $y$ is often a single dimensional value.\n",
    "\n",
    "The **Machine Learning process** takes in some historical data, it is processed through a machine learning algorithm to generate a model, then on runtime we give this model some $x$ and it will produce a $y$ based on the model.\n",
    "\n",
    "![The machine learning problem](./img/L_03-01_1.png)"
   ]
  },
  {
   "cell_type": "markdown",
   "metadata": {},
   "source": [
    "### 3. Quiz: Whats $x$ and $y$?\n",
    "\n",
    "![Problems with plotting](./img/L_03-01_2.png)\n",
    "\n",
    "Price momentum, Bollinger bands and the current prices can be thought as observations or features of a stock.\n",
    "\n",
    "Future price and future returns are predictions based on a model and some observations.\n"
   ]
  },
  {
   "cell_type": "markdown",
   "metadata": {},
   "source": [
    "### 4. Supervised Regression Learning\n",
    "\n",
    "Lets brake down this sentence word by word:\n",
    "\n",
    "**Supervised** mens that we show the machine many examples of a given $x$ and the correct answer $y$, in a way that it will learn from the errors or mistakes it makes.\n",
    "\n",
    "**Regression** stands for numerical aproximations or a numerical prediction.\n",
    "\n",
    "**Learning** stands for training with data.\n",
    "\n",
    "Some examples of algorithms that solve the supervised regression learning problem are:\n",
    "\n",
    "  * Linear Regression (Parametric Learning)\n",
    "  * K Nearest Neighbours (KNN) (Instance based)\n",
    "  * Decision Trees\n",
    "  * Decision Forests"
   ]
  },
  {
   "cell_type": "markdown",
   "metadata": {},
   "source": [
    "### 5. Robot Navigation Example\n",
    "\n",
    "As an example of supervised machine learning, here is shown the robot \"LAGR\" (Learning Applied to Ground Robotics), which uses **KNN** to learn how to navigate.\n",
    "\n",
    "It has a sensor that sees the world around of it, and identify wether there are obstacles in a given direction or not.\n",
    "\n",
    "Also the robot has a direction towards a goal.\n",
    "\n",
    "$x$ are the perceptions of the robot, if there are obstacles or not in the direction of the goal, and $y$ is which direction to steer.\n",
    "\n",
    "![Robot navigation example](./img/L_03-01_3.png)"
   ]
  },
  {
   "cell_type": "markdown",
   "metadata": {},
   "source": [
    "### 6. How it Works with Stock Data\n",
    "\n",
    "Based on the **Pandas Dataframes** we get some historical data, for many features (PE ratio, Bollinger bands, etc) of a set of stocks ($x$).\n",
    "\n",
    "on the other hand we would like to predict the price of the stock for example 5 days forward in time ($y$), based on the current observtions of the stocks.\n",
    "\n",
    "![How it works with stock data](./img/L_03-01_4.png)"
   ]
  },
  {
   "cell_type": "markdown",
   "metadata": {},
   "source": [
    "### 7. Examples at a FinTech Company\n",
    "\n",
    "The process used at the company of Tucker Balch is the following\n",
    "\n",
    "1. First they select an $x$ vector of quantitative characteristics to be observed for every stock.\n",
    "\n",
    "2. Then they select the $y$ value to be predicted from this observations.\n",
    "\n",
    "3. With this two steps together and some historical data, they create a model based on a machine learning algorithm, for this step it is very important to define the depth of the data that will be used to train the model, or how far back in time they will consider data for the training of the model and which stocks to use for this task.\n",
    "\n",
    "4. After the training the model is used to make predictions from after meassuring the quantities to observe from each stock.\n",
    "\n",
    "![Examples at a FinTech company](./img/L_03-01_5.png)"
   ]
  },
  {
   "cell_type": "markdown",
   "metadata": {},
   "source": [
    "### 8. Price Forecasting Demo\n",
    "\n",
    "In **QuantDesk**, a real life application, they use the very same algorithm.\n",
    "\n",
    "From a group of stocks that make up the **Dow Jones**, we must tell the software which factors we want to include in our $x$ observations vector, after a training for a certain period of time, the program will generate a prediction (forecast) of the value of the stock ($y$) and a confidence interval.\n",
    "\n",
    "![Examples at a FinTech company](./img/L_03-01_6.png)"
   ]
  },
  {
   "cell_type": "markdown",
   "metadata": {},
   "source": [
    "### 9. Backtesting\n",
    "\n",
    "A big question is:\n",
    "\n",
    "**How good are the predictions made by the model?**\n",
    "\n",
    "This is answered doing a **backtesting**.\n",
    "\n",
    "This means you roll back time, simulate the market and check the behaviour of the predicting model.\n",
    "\n",
    "From the predictions of the model, some orders over a protafolio will be done, like buying or selling, and based on the real behaviour of the market, we check if the decissions made by the artificial intelligence were positive or negative over a period of time.\n",
    "\n",
    "![Backtesting](./img/L_03-01_7.png)"
   ]
  },
  {
   "cell_type": "markdown",
   "metadata": {},
   "source": [
    "### 10. Machine Learning Tool in Use\n",
    "\n",
    "An example of the use of this backtesting tool is presented using the software **QuantDesk**\n",
    "\n",
    "![Backtesting](./img/L_03-01_8.png)\n"
   ]
  },
  {
   "cell_type": "markdown",
   "metadata": {},
   "source": [
    "### 11. Problems with Regression\n",
    "\n",
    "Regression-based forecasting can be usefull, in the previous example, the algorithm beat the SP500, but it didn´t beat it spectacularly. Usually the performance of an algorithm in the real world is not as good as it is in the backtesting, so we would probably still see good returns from the previous strategy (KNN), but it wouldn't be as we saw in the backtesting.\n",
    "\n",
    "Some problems that can be seen sometimes with regression are:\n",
    "\n",
    "![Problems with regression](./img/L_03-01_9.png)\n",
    "\n",
    "As shown in the previous image, some of this problems can be addressed using **Reinforcement Learning**, where instead of making a forecast of a future price, the system learns a **policy** and the policy tells the system whether to buy or sell a stock."
   ]
  },
  {
   "cell_type": "markdown",
   "metadata": {},
   "source": [
    "### 12. Problems We Will Focus On\n",
    "\n",
    "We will look at a certain period of data, train our models over that data, and the make a forecast and trade over some other period, simulating the results of each Machine Learning algorithm and comparing the models that we´ve generated.\n",
    "\n",
    "![Problems with regression](./img/L_03-01_10.png)"
   ]
  },
  {
   "cell_type": "markdown",
   "metadata": {},
   "source": [
    "## Lesson 03-02: Regression"
   ]
  },
  {
   "cell_type": "markdown",
   "metadata": {},
   "source": [
    "### 1. Introduction\n",
    "\n",
    "The word regression doesn't describe correctly the task, it is better to use **numerical model** as we generate a numerical model, from numerical data, to produce numerical outputs."
   ]
  },
  {
   "cell_type": "markdown",
   "metadata": {},
   "source": [
    "### 2. Parametric Regression\n",
    "\n",
    "This is a way of building a model where we represent the model with a set of parameters.\n",
    "\n",
    "For example, we can create a model that predicts how much rain will fall today, based on the change of the barometric preassure.\n",
    "\n",
    "![Parametric regression](./img/L_03-02_1.png)\n",
    "\n",
    "When barometric preassure increases, this means there will be a good weather, and viceversa.\n",
    "\n",
    "Then we can create a \"trending line\" that fits best this data, this approach is calles linear regression.\n",
    "\n",
    "![Linear regression](./img/L_03-02_2.png)\n",
    "\n",
    "And it can be represented using the parameters $m$ and $b$, so the model now is fully described by this two parameters.\n",
    "\n",
    "So to predict the amount of rain ($y$) given the change in the barometric preassure ($x$), we just have to use the formula $y = mx + b$.\n",
    "\n",
    "This approach is descent, but it doesn't follow very precisely the behaviour of the data, if we instead consider a polynomial regression, adding more $x$ terms, and eventually, more parameters, for example for a polynomial of order $2$ we must find $m_2$, $m$ and $b$\n",
    "\n",
    "![Polynomial regression](./img/L_03-02_3.png)\n",
    "\n",
    "The more complex the model, the more parameters will be needed, but the more precise the predictions will be."
   ]
  },
  {
   "cell_type": "markdown",
   "metadata": {},
   "source": [
    "### 3. K Nearest Neighbours\n",
    "\n",
    "This is a data-centric approach or instanced approach, we must keep the data to use it when we want to predict or make a query among it. \n",
    "\n",
    "Lets suppose again the problem of predicting the amount of rain in termos of the change of the barometric preassure for a given day. Lets suppose the barometric preassure has decreased $5$ mm, and lets suppose we will consider the $3$ nearest historical data points to that query point ($k = 3$). \n",
    "\n",
    "We will use them to estimate how much it's going to rain today.\n",
    "\n",
    "![K nearest neighbours](./img/L_03-02_4.png)\n"
   ]
  },
  {
   "cell_type": "markdown",
   "metadata": {},
   "source": [
    "### 4. Quiz: How to Predict?\n",
    "\n",
    "![Quiz KNN](./img/L_03-02_5.png)\n",
    "\n",
    "The average of the $x$ values will throw $5$ mm, and the largest $y$ because we want to take advantage of the information provided by the other neighbours. For this reasons the best choice is to estimate the average of the $y$ values of the $k$ nearest neighbours."
   ]
  },
  {
   "cell_type": "markdown",
   "metadata": {},
   "source": [
    "### 5. Kernel Model\n",
    "\n",
    "If we apply the KNN technique through the whole domain of the data, we will end up with the following result.\n",
    "\n",
    "![Kernel model](./img/L_03-02_6.png)\n",
    "\n",
    "This method fits the data in all the regions, and it interpolates it nicely and smoothly.\n",
    "\n",
    "There are a number of methods like this, that keeps the data around and when they make a query, they consult it to find the answer, the most famous is the KNN method, but there are others such as **Kernel Regressions**.\n",
    "\n",
    "The main way KNN differs from Kernel Regressions is that the kernel regressions weight the values based on the distance to the query point, KNN considers all the data with the same weight.\n"
   ]
  },
  {
   "cell_type": "markdown",
   "metadata": {},
   "source": [
    "### 6. Quiz: Parametric or Non-Parametric?\n",
    "\n",
    "![Quiz parametric non parametric](./img/L_03-02_7.png)\n"
   ]
  },
  {
   "cell_type": "markdown",
   "metadata": {},
   "source": [
    "### 7. Training and Testing\n",
    "\n",
    "A good technique to find out how good our model to predict prices of stocks we can do the following:\n",
    "\n",
    "  * Split the historical, quantitative data of a set of stocks into a training set and a testing set, both $x$ and $y$ values, it is important that the training data belongs to earlier dates than the testing data.\n",
    "  * With the training data generate the model.\n",
    "  * Introduce the $x$ values of the testing data to the model and compare how distant are the predictions to the $y$ data for testing.\n",
    "\n",
    "![Training and testing](./img/L_03-02_8.png)\n"
   ]
  },
  {
   "cell_type": "markdown",
   "metadata": {},
   "source": [
    "### 8. Learning APIs\n",
    "\n",
    "The most basic functions a machine learning API for the methods just explained should contain are the following:\n",
    "\n",
    "![Training and testing](./img/L_03-02_9.png)\n",
    "\n"
   ]
  },
  {
   "cell_type": "markdown",
   "metadata": {},
   "source": [
    "### 9. Example for Linear Regression\n",
    "\n",
    "![Training and testing](./img/L_03-02_10.png)\n"
   ]
  },
  {
   "cell_type": "markdown",
   "metadata": {},
   "source": [
    "## Lesson 03-05: Reinforcement Learning"
   ]
  },
  {
   "cell_type": "markdown",
   "metadata": {},
   "source": [
    "### . "
   ]
  },
  {
   "cell_type": "markdown",
   "metadata": {},
   "source": [
    "### . "
   ]
  },
  {
   "cell_type": "markdown",
   "metadata": {},
   "source": [
    "### . "
   ]
  },
  {
   "cell_type": "markdown",
   "metadata": {},
   "source": [
    "### . "
   ]
  },
  {
   "cell_type": "markdown",
   "metadata": {},
   "source": [
    "### . "
   ]
  },
  {
   "cell_type": "markdown",
   "metadata": {},
   "source": [
    "### . "
   ]
  },
  {
   "cell_type": "markdown",
   "metadata": {},
   "source": [
    "### . "
   ]
  },
  {
   "cell_type": "markdown",
   "metadata": {},
   "source": [
    "### . "
   ]
  },
  {
   "cell_type": "markdown",
   "metadata": {},
   "source": [
    "### . "
   ]
  },
  {
   "cell_type": "markdown",
   "metadata": {},
   "source": [
    "## Lesson 03-06: Q-Learning"
   ]
  },
  {
   "cell_type": "markdown",
   "metadata": {},
   "source": [
    "### . "
   ]
  },
  {
   "cell_type": "markdown",
   "metadata": {},
   "source": [
    "### . "
   ]
  },
  {
   "cell_type": "markdown",
   "metadata": {},
   "source": [
    "### . "
   ]
  },
  {
   "cell_type": "markdown",
   "metadata": {},
   "source": [
    "### . "
   ]
  },
  {
   "cell_type": "markdown",
   "metadata": {},
   "source": [
    "### . "
   ]
  },
  {
   "cell_type": "markdown",
   "metadata": {},
   "source": [
    "### . "
   ]
  },
  {
   "cell_type": "markdown",
   "metadata": {},
   "source": [
    "### . "
   ]
  },
  {
   "cell_type": "markdown",
   "metadata": {},
   "source": [
    "### . "
   ]
  },
  {
   "cell_type": "markdown",
   "metadata": {},
   "source": [
    "### . "
   ]
  },
  {
   "cell_type": "markdown",
   "metadata": {},
   "source": [
    "### . "
   ]
  },
  {
   "cell_type": "markdown",
   "metadata": {},
   "source": [
    "### . "
   ]
  },
  {
   "cell_type": "markdown",
   "metadata": {},
   "source": [
    "### . "
   ]
  },
  {
   "cell_type": "markdown",
   "metadata": {},
   "source": [
    "### . "
   ]
  },
  {
   "cell_type": "markdown",
   "metadata": {},
   "source": [
    "### . "
   ]
  }
 ],
 "metadata": {
  "kernelspec": {
   "display_name": "Python 2",
   "language": "python",
   "name": "python2"
  },
  "language_info": {
   "codemirror_mode": {
    "name": "ipython",
    "version": 2
   },
   "file_extension": ".py",
   "mimetype": "text/x-python",
   "name": "python",
   "nbconvert_exporter": "python",
   "pygments_lexer": "ipython2",
   "version": "2.7.14"
  }
 },
 "nbformat": 4,
 "nbformat_minor": 2
}
