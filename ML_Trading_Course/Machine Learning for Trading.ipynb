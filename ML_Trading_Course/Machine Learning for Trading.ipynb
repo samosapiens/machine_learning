{
 "cells": [
  {
   "cell_type": "markdown",
   "metadata": {},
   "source": [
    "# Machine Learning for Trading\n",
    "### Implement machine learning based strategies to make trading decisions using real-world data.\n",
    "---\n",
    "\n",
    "**Santiago Álvarez Sepúlveda**\n",
    "\n",
    "**E-mail:** saalvarezse@unal.edu.co\n",
    "\n",
    "Results of excercises and quices asigned on the course [Machine Learning for Trading - Tucker Balch (Georgia Tech)](https://classroom.udacity.com/courses/ud501) in Udacity. \n"
   ]
  },
  {
   "cell_type": "markdown",
   "metadata": {},
   "source": [
    "## Lesson 00-00: Introduction"
   ]
  },
  {
   "cell_type": "markdown",
   "metadata": {},
   "source": [
    "### 1. Introduction\n",
    "\n",
    "Professor **Tucker Balch** and his student assistant **Devpriya Dave (A.K.A. Dev)** from **Georgia Tech** will be the instructors for the course.\n",
    "\n",
    "Tucker Balch was first introduced to machine learning researching about it's aplication in robotics, and in 2007 he became interested in applying the same algorithms for investing, since then he shifted his knowledge to finance and also cofounded a **FinTech** company called **Lucena Research**.\n",
    "\n",
    "Devpriya Dave is a graduate student from **Georgia Tech** and has been working with professor Tucker Balch building up a predictive system for stock market.\n",
    "\n",
    "Through the course we will explore how information influences the movemen of a stock price, how to build software to analyse and visualize these relationships, and details about the stock exchanges work, finally, at the end of the course it will be teached how to build machine learning algorithms that can be used to build real trading strategies."
   ]
  },
  {
   "cell_type": "markdown",
   "metadata": {},
   "source": [
    "### 2. Three parts of the course\n",
    "\n",
    "The course is split in three parts:\n",
    "\n",
    "1. **Manipulating Financial Data in Python:**\n",
    "Techniques to read historical financial data into Python and manipulate it using powerfull statistical algorithms.\n",
    "\n",
    "2. **Computational Investing:**\n",
    "A set of algorithms, methods and models used by hedge funds and investment banks to manipulate and work with financial data.\n",
    "\n",
    "3. **Learning Algorithms for Trading:**\n",
    "Everything will be pulled together, how to use financial data and create algorithms based on machine learning techniques.\n",
    "\n"
   ]
  },
  {
   "cell_type": "markdown",
   "metadata": {},
   "source": [
    "### 3. Textbooks\n",
    "\n",
    "The main books refered for each part of the course are:\n",
    "\n",
    "1. **Manipulating Financial Data in Python:**\n",
    "[Python for Finance by Hilpisch.](https://doc.lagout.org/programmation/python/Python%20for%20Finance_%20Analyze%20Big%20Financial%20Data%20%5BHilpisch%202014-12-27%5D.pdf)\n",
    "\n",
    "2. **Computational Investing:**\n",
    "[What Hedge Funds Really Do by Tucker Balch and Philip Romero.](https://www.oreilly.com/library/view/what-hedge-funds/9781631570896/)\n",
    "\n",
    "3. **Learning Algorithms for Trading:**\n",
    "[Machine Learning by Tom Mitchel.](https://www.cs.ubbcluj.ro/~gabis/ml/ml-books/McGrawHill%20-%20Machine%20Learning%20-Tom%20Mitchell.pdf)\n"
   ]
  },
  {
   "cell_type": "markdown",
   "metadata": {},
   "source": [
    "### 4. Prerequisites\n",
    "\n",
    "You don't have to be an expert stock analyst, the main prerequisites for teh course are:\n",
    "\n",
    "* Be a strong programmer in Python"
   ]
  },
  {
   "cell_type": "markdown",
   "metadata": {},
   "source": [
    "## Lesson 01-01: Reading and plotting stock data"
   ]
  },
  {
   "cell_type": "markdown",
   "metadata": {},
   "source": [
    "### 1. Introduction\n",
    "\n",
    "This lesson covers a quick introduction to manipulating financial data in Python.\n",
    "\n",
    "Some advantages of using Python for this tasks are the following:\n",
    "\n",
    "* Quickly prototipe algorithms\n",
    "* Computational speed\n",
    "* Strong cientific libraries\n",
    "* Strongly maintained\n",
    "* Fast"
   ]
  },
  {
   "cell_type": "markdown",
   "metadata": {},
   "source": [
    "### 2. Lesson outline\n",
    "\n",
    "In this lesson you will learn how to read data, select subsets of it and generate useful plots, using pandas and matplotlib. The documentation links below are for your reference.\n",
    "\n",
    "Read stock data from CSV files:\n",
    "  * [pandas.DataFrame](http://pandas.pydata.org/pandas-docs/stable/generated/pandas.DataFrame.html)\n",
    "  * [pandas.read_csv](http://pandas.pydata.org/pandas-docs/stable/generated/pandas.read_csv.html)\n",
    "\n",
    "Select desired rows and columns:\n",
    "  * [Indexing and Slicing Data](http://pandas.pydata.org/pandas-docs/stable/indexing.html)\n",
    "  * Gotchas: [Label-based slicing conventions](http://pandas.pydata.org/pandas-docs/stable/gotchas.html?#label-based-slicing-conventions)\n",
    "\n",
    "Visualize data by generating plots:\n",
    "  * [Plotting](http://pandas.pydata.org/pandas-docs/stable/visualization.html)\n",
    "  * [pandas.DataFrame.plot](http://pandas.pydata.org/pandas-docs/stable/generated/pandas.DataFrame.plot.html)\n",
    "  * [matplotlib.pyplot.plot](https://matplotlib.org/api/pyplot_api.html#matplotlib.pyplot.plot)"
   ]
  },
  {
   "cell_type": "markdown",
   "metadata": {},
   "source": [
    "### 3. Data in CSV files\n",
    "\n",
    "**CSV** files or **C**omma **S**eparated **V**alues, are plain text files that are made up of a header to define a set of columns, and some data rows. Also each column represanting a variable can be ploted independently to visualize the behaviour of the variable as recorded in the file.\n",
    "\n",
    "For example:\n",
    "\n",
    "![CSV file example](./img/L_01-01_3.png)\n",
    "\n"
   ]
  },
  {
   "cell_type": "markdown",
   "metadata": {},
   "source": [
    "### 4. Quiz: Which fields should be in a CSV file?\n",
    "\n",
    "![Which fields should be in a CSV file?](./img/L_01-01_4.png)\n"
   ]
  },
  {
   "cell_type": "markdown",
   "metadata": {},
   "source": [
    "### 5. Real stock data\n",
    "\n",
    "The stock data we will be working with will contain the following information:\n",
    "\n",
    "* **Date:** Which date is the information for.\n",
    "* **Open:** Price of the stock at the stock market open time.\n",
    "* **High:** Highest price throughout the day.\n",
    "* **Low:** Lowest price throughout the day.\n",
    "* **Close:** Price of the stock at the stock market close time.\n",
    "* **Volume:** How many shares of the stock were traded alltogether on that day.\n",
    "* **Adj Close:** A litle different from the close value, it is adjusted for stock splits and dividen payments.\n",
    "\n",
    "![Real stock data looks like this](./img/L_01-01_5.png)\n"
   ]
  },
  {
   "cell_type": "markdown",
   "metadata": {},
   "source": [
    "### 6. Pandas dataframe\n",
    "\n",
    "Library created by **Wes McKinney** ata hedge fund call **AQR**. It is used by many hedge funds and people in finance industry.\n",
    "\n",
    "One of the key components of **Pandas** is the **Dataframe**. It´s standard layout represents symbols in the stock market as columns, and time represented by rows.\n",
    "\n",
    "Sometimes unexpected values might be found (for example **NaN**, which stands for Not a Number), this is a way to tell Python that the information of that symbol in that instant of time does not exist or is not known, and later it has to be handled correctly.\n",
    "\n",
    "As every 2D dataframe represents the value of a variable, for every symbol, at an instant in time, we can group more matrices like this for other vairables, creating a 3D matrix.\n",
    "\n",
    "![Pandas dataframe](./img/L_01-01_6.png)"
   ]
  },
  {
   "cell_type": "markdown",
   "metadata": {},
   "source": [
    "### 7. Example CSV file\n",
    "\n",
    "In this example CSV file, the data is given in the reverse order, so later we will learn how to fix that.\n",
    "\n",
    "![Example CSV file](./img/L_01-01_7.png)"
   ]
  },
  {
   "cell_type": "markdown",
   "metadata": {},
   "source": [
    "### 8. Quiz: Read CSV\n",
    "\n",
    "Documentation: \n",
    "  * [pandas.DataFrame.head](http://pandas.pydata.org/pandas-docs/stable/generated/pandas.DataFrame.head.html)\n",
    "\n",
    "Instructions:\n",
    "  * Replace the TODO comment with code to print the last 5 rows of the DataFrame df.\n",
    "  \n",
    "Documentation: \n",
    "  * [pandas.DataFrame.tail](http://pandas.pydata.org/pandas-docs/stable/generated/pandas.DataFrame.tail.html)\n",
    "\n",
    "To download the data go to [Yahoo Finance - APPL History Prices](https://finance.yahoo.com/quote/AAPL/history?p=AAPL)"
   ]
  },
  {
   "cell_type": "code",
   "execution_count": 6,
   "metadata": {},
   "outputs": [
    {
     "name": "stdout",
     "output_type": "stream",
     "text": [
      "Showing Head of file\n",
      "         Date        Open        High         Low       Close   Adj Close  \\\n",
      "0  2018-10-04  230.779999  232.350006  226.729996  227.990005  227.990005   \n",
      "1  2018-10-05  227.960007  228.410004  220.580002  224.289993  224.289993   \n",
      "2  2018-10-08  222.210007  224.800003  220.199997  223.770004  223.770004   \n",
      "3  2018-10-09  223.639999  227.270004  222.250000  226.869995  226.869995   \n",
      "4  2018-10-10  225.460007  226.350006  216.050003  216.360001  216.360001   \n",
      "\n",
      "     Volume  \n",
      "0  32042000  \n",
      "1  33580500  \n",
      "2  29663900  \n",
      "3  26891000  \n",
      "4  41990600  \n",
      "\n",
      "Showing Tail of file\n",
      "          Date        Open        High         Low       Close   Adj Close  \\\n",
      "17  2018-10-29  219.190002  219.690002  206.089996  212.240005  212.240005   \n",
      "18  2018-10-30  211.149994  215.179993  209.270004  213.300003  213.300003   \n",
      "19  2018-10-31  216.880005  220.449997  216.619995  218.860001  218.860001   \n",
      "20  2018-11-01  219.050003  222.360001  216.809998  222.220001  222.220001   \n",
      "21  2018-11-02  209.550003  213.649994  205.429993  207.479996  207.479996   \n",
      "\n",
      "      Volume  \n",
      "17  45935500  \n",
      "18  36660000  \n",
      "19  38358900  \n",
      "20  58323200  \n",
      "21  91263400  \n"
     ]
    }
   ],
   "source": [
    "import pandas as pd\n",
    "\n",
    "def test_run_head():\n",
    "    df = pd.read_csv('data/AAPL.csv')\n",
    "    print df.head()\n",
    "\n",
    "def test_run_tail():\n",
    "    df = pd.read_csv('data/AAPL.csv')\n",
    "    print df.tail()\n",
    "\n",
    "print 'Showing Head of file'\n",
    "test_run_head()\n",
    "\n",
    "print ''\n",
    "\n",
    "print 'Showing Tail of file'\n",
    "test_run_tail()"
   ]
  },
  {
   "cell_type": "markdown",
   "metadata": {},
   "source": [
    "### 9. Select rows\n",
    "\n",
    "Method to visualize an interval of rows of the dataframe"
   ]
  },
  {
   "cell_type": "code",
   "execution_count": 7,
   "metadata": {},
   "outputs": [
    {
     "name": "stdout",
     "output_type": "stream",
     "text": [
      "Showing Interval of file [10, 20]\n",
      "          Date        Open        High         Low       Close   Adj Close  \\\n",
      "10  2018-10-18  217.860001  219.740005  213.000000  216.020004  216.020004   \n",
      "11  2018-10-19  218.059998  221.259995  217.429993  219.309998  219.309998   \n",
      "12  2018-10-22  219.789993  223.360001  218.940002  220.649994  220.649994   \n",
      "13  2018-10-23  215.830002  223.250000  214.699997  222.729996  222.729996   \n",
      "14  2018-10-24  222.600006  224.229996  214.539993  215.089996  215.089996   \n",
      "15  2018-10-25  217.710007  221.380005  216.750000  219.800003  219.800003   \n",
      "16  2018-10-26  215.899994  220.190002  212.669998  216.300003  216.300003   \n",
      "17  2018-10-29  219.190002  219.690002  206.089996  212.240005  212.240005   \n",
      "18  2018-10-30  211.149994  215.179993  209.270004  213.300003  213.300003   \n",
      "19  2018-10-31  216.880005  220.449997  216.619995  218.860001  218.860001   \n",
      "20  2018-11-01  219.050003  222.360001  216.809998  222.220001  222.220001   \n",
      "\n",
      "      Volume  \n",
      "10  32581300  \n",
      "11  33078700  \n",
      "12  28792100  \n",
      "13  38767800  \n",
      "14  40925500  \n",
      "15  29855800  \n",
      "16  47258400  \n",
      "17  45935500  \n",
      "18  36660000  \n",
      "19  38358900  \n",
      "20  58323200  \n"
     ]
    }
   ],
   "source": [
    "def test_run_interval():\n",
    "    df = pd.read_csv('data/AAPL.csv')\n",
    "    print df[10:21]\n",
    "\n",
    "print 'Showing Interval of file [10, 20]'\n",
    "test_run_interval()\n"
   ]
  },
  {
   "cell_type": "markdown",
   "metadata": {},
   "source": [
    "### 10. Compute max closing price\n",
    "\n",
    "Compute the maximum close price of a stock using Pandas.\n",
    "\n",
    "To download the data go to [Yahoo Finance - IBM History Prices](https://finance.yahoo.com/quote/IBM/history?p=IBM)"
   ]
  },
  {
   "cell_type": "code",
   "execution_count": 13,
   "metadata": {},
   "outputs": [
    {
     "name": "stdout",
     "output_type": "stream",
     "text": [
      "Max Close\n",
      "AAPL 227.99000499999997\n",
      "Max Close\n",
      "IBM 151.309998\n"
     ]
    }
   ],
   "source": [
    "def get_max_close(symbol):\n",
    "    '''\n",
    "    Return the maximum closing value for stock indicated by symbol.\n",
    "    '''\n",
    "    df = pd.read_csv('data/{}.csv'.format(symbol)) # read input data\n",
    "    return df['Close'].max() # Compute and return maximum close price\n",
    "\n",
    "def test_run_symbols():\n",
    "    '''\n",
    "    Function called to run this test\n",
    "    '''\n",
    "    for symbol in ['AAPL', 'IBM']:\n",
    "        print 'Max Close'\n",
    "        print symbol, get_max_close(symbol)\n",
    "\n",
    "test_run_symbols()"
   ]
  },
  {
   "cell_type": "markdown",
   "metadata": {},
   "source": [
    "### 11. Quiz: Compute mean volume\n",
    "\n",
    "Calculate the mean volume for each given symbol."
   ]
  },
  {
   "cell_type": "code",
   "execution_count": 14,
   "metadata": {},
   "outputs": [
    {
     "name": "stdout",
     "output_type": "stream",
     "text": [
      "Mean Volume\n",
      "AAPL 39195059.0909\n",
      "Mean Volume\n",
      "IBM 9645659.09091\n"
     ]
    }
   ],
   "source": [
    "def get_mean_volume(symbol):\n",
    "    '''\n",
    "    Return the mean volume value for stock indicated by symbol.\n",
    "    '''\n",
    "    df = pd.read_csv('data/{}.csv'.format(symbol)) # read input data\n",
    "    return df['Volume'].mean() # Compute and return maximum close price\n",
    "\n",
    "def test_run_symbols_mean():\n",
    "    '''\n",
    "    Function called to run this test\n",
    "    '''\n",
    "    for symbol in ['AAPL', 'IBM']:\n",
    "        print 'Mean Volume'\n",
    "        print symbol, get_mean_close(symbol)\n",
    "\n",
    "test_run_symbols_mean()"
   ]
  },
  {
   "cell_type": "markdown",
   "metadata": {},
   "source": [
    "### 12. Plotting stock price data\n",
    "\n",
    "Example to plot APPL's adjusted close."
   ]
  },
  {
   "cell_type": "code",
   "execution_count": 17,
   "metadata": {},
   "outputs": [
    {
     "name": "stdout",
     "output_type": "stream",
     "text": [
      "0     227.990005\n",
      "1     224.289993\n",
      "2     223.770004\n",
      "3     226.869995\n",
      "4     216.360001\n",
      "5     214.449997\n",
      "6     222.110001\n",
      "7     217.360001\n",
      "8     222.149994\n",
      "9     221.190002\n",
      "10    216.020004\n",
      "11    219.309998\n",
      "12    220.649994\n",
      "13    222.729996\n",
      "14    215.089996\n",
      "15    219.800003\n",
      "16    216.300003\n",
      "17    212.240005\n",
      "18    213.300003\n",
      "19    218.860001\n",
      "20    222.220001\n",
      "21    207.479996\n",
      "Name: Adj Close, dtype: float64\n"
     ]
    },
    {
     "data": {
      "image/png": "[encoded data removed]",
      "text/plain": [
       "<matplotlib.figure.Figure at 0xa4c9d68>"
      ]
     },
     "metadata": {},
     "output_type": "display_data"
    }
   ],
   "source": [
    "import matplotlib.pyplot as plt\n",
    "\n",
    "def test_run_plot():\n",
    "    df = pd.read_csv('data/AAPL.csv')\n",
    "    print df['Adj Close']\n",
    "    df['Adj Close'].plot()\n",
    "    plt.show()\n",
    "    \n",
    "test_run_plot()"
   ]
  },
  {
   "cell_type": "markdown",
   "metadata": {},
   "source": [
    "### 13. Quiz: Plot High prices for IBM\n",
    "\n",
    "Hint: Select the 'High' column from the dataframe and plot it.\n",
    "\n",
    "Bonus: Add a title and axis labels (see [matplotlib.pyplot tutorial](https://matplotlib.org/users/pyplot_tutorial.html#working-with-text))."
   ]
  },
  {
   "cell_type": "code",
   "execution_count": 21,
   "metadata": {},
   "outputs": [
    {
     "data": {
      "image/png": "[encoded data removed]",
      "text/plain": [
       "<matplotlib.figure.Figure at 0x9026198>"
      ]
     },
     "metadata": {},
     "output_type": "display_data"
    }
   ],
   "source": [
    "def test_run_plot_quiz():\n",
    "    df = pd.read_csv(\"data/IBM.csv\")\n",
    "    df['High'].plot()\n",
    "    plt.xlabel('Row in file')\n",
    "    plt.ylabel('High values')\n",
    "    plt.title('High prices for IBM')\n",
    "    plt.show()  # must be called to show plots\n",
    "\n",
    "test_run_plot_quiz()"
   ]
  },
  {
   "cell_type": "markdown",
   "metadata": {},
   "source": [
    "### 14. Plot two columns\n",
    "\n",
    "Example to plot two columns simultaniously in the same graph."
   ]
  },
  {
   "cell_type": "code",
   "execution_count": 23,
   "metadata": {},
   "outputs": [
    {
     "data": {
      "image/png": "[encoded data removed]",
      "text/plain": [
       "<matplotlib.figure.Figure at 0xafcc438>"
      ]
     },
     "metadata": {},
     "output_type": "display_data"
    }
   ],
   "source": [
    "def test_run_plot_two_columns():\n",
    "    df = pd.read_csv(\"data/IBM.csv\")\n",
    "    df[['Open', 'Adj Close']].plot()\n",
    "    plt.show()  # must be called to show plots\n",
    "\n",
    "test_run_plot_two_columns()"
   ]
  },
  {
   "cell_type": "markdown",
   "metadata": {},
   "source": [
    "## Lesson 01-02: Working with multiple stocks"
   ]
  },
  {
   "cell_type": "markdown",
   "metadata": {},
   "source": [
    "### 1. Lesson summary\n",
    "\n",
    "To read multiple stocks into a single dataframe, you need to:\n",
    "  * Specify a set of dates using [pandas.date_range](http://pandas.pydata.org/pandas-docs/stable/generated/pandas.date_range.html)\n",
    "  * Create an empty dataframe with dates as index\n",
    "    * This helps align stock data and orders it by trading date\n",
    "  * Read in a reference stock (here SPY) and drop non-trading days using [pandas.DataFrame.dropna](http://pandas.pydata.org/pandas-docs/stable/generated/pandas.DataFrame.html)\n",
    "  * Incrementally join dataframes using [pandas.DataFrame.join](http://pandas.pydata.org/pandas-docs/stable/generated/pandas.DataFrame.join.html)\n",
    "\n",
    "Once you have multiple stocks, you can:\n",
    "  * Select a subset of stocks by ticker symbols\n",
    "  * Slice by row (dates) and column (symbols)\n",
    "  * Plot multiple stocks at once (still using [pandas.DataFrame.plot](http://pandas.pydata.org/pandas-docs/stable/generated/pandas.DataFrame.plot.html))\n",
    "  * Carry out arithmetic operations across stocks, e.g. normalize by the first day's price\n"
   ]
  },
  {
   "cell_type": "markdown",
   "metadata": {},
   "source": [
    "### . "
   ]
  },
  {
   "cell_type": "markdown",
   "metadata": {},
   "source": [
    "### . "
   ]
  },
  {
   "cell_type": "markdown",
   "metadata": {},
   "source": [
    "### . "
   ]
  },
  {
   "cell_type": "markdown",
   "metadata": {},
   "source": [
    "### . "
   ]
  },
  {
   "cell_type": "markdown",
   "metadata": {},
   "source": [
    "### . "
   ]
  },
  {
   "cell_type": "markdown",
   "metadata": {},
   "source": [
    "### . "
   ]
  },
  {
   "cell_type": "markdown",
   "metadata": {},
   "source": [
    "### . "
   ]
  },
  {
   "cell_type": "markdown",
   "metadata": {},
   "source": [
    "### . "
   ]
  },
  {
   "cell_type": "markdown",
   "metadata": {},
   "source": [
    "### . "
   ]
  },
  {
   "cell_type": "markdown",
   "metadata": {},
   "source": [
    "### . "
   ]
  },
  {
   "cell_type": "markdown",
   "metadata": {},
   "source": [
    "### . "
   ]
  },
  {
   "cell_type": "markdown",
   "metadata": {},
   "source": [
    "### . "
   ]
  },
  {
   "cell_type": "markdown",
   "metadata": {},
   "source": [
    "### . "
   ]
  },
  {
   "cell_type": "markdown",
   "metadata": {},
   "source": [
    "### . "
   ]
  },
  {
   "cell_type": "markdown",
   "metadata": {},
   "source": [
    "### . "
   ]
  },
  {
   "cell_type": "markdown",
   "metadata": {},
   "source": [
    "### . "
   ]
  },
  {
   "cell_type": "markdown",
   "metadata": {},
   "source": [
    "### . "
   ]
  },
  {
   "cell_type": "markdown",
   "metadata": {},
   "source": [
    "### . "
   ]
  },
  {
   "cell_type": "markdown",
   "metadata": {},
   "source": [
    "### . "
   ]
  },
  {
   "cell_type": "markdown",
   "metadata": {},
   "source": [
    "### . "
   ]
  },
  {
   "cell_type": "markdown",
   "metadata": {},
   "source": [
    "### . "
   ]
  },
  {
   "cell_type": "markdown",
   "metadata": {},
   "source": [
    "### . "
   ]
  },
  {
   "cell_type": "markdown",
   "metadata": {},
   "source": [
    "### . "
   ]
  },
  {
   "cell_type": "markdown",
   "metadata": {},
   "source": [
    "### . "
   ]
  },
  {
   "cell_type": "markdown",
   "metadata": {},
   "source": [
    "### . "
   ]
  },
  {
   "cell_type": "markdown",
   "metadata": {},
   "source": [
    "### . "
   ]
  },
  {
   "cell_type": "markdown",
   "metadata": {},
   "source": [
    "### . "
   ]
  },
  {
   "cell_type": "markdown",
   "metadata": {},
   "source": [
    "### . "
   ]
  },
  {
   "cell_type": "markdown",
   "metadata": {},
   "source": [
    "### . "
   ]
  },
  {
   "cell_type": "code",
   "execution_count": null,
   "metadata": {},
   "outputs": [],
   "source": []
  },
  {
   "cell_type": "code",
   "execution_count": null,
   "metadata": {},
   "outputs": [],
   "source": []
  },
  {
   "cell_type": "code",
   "execution_count": null,
   "metadata": {},
   "outputs": [],
   "source": []
  },
  {
   "cell_type": "code",
   "execution_count": null,
   "metadata": {},
   "outputs": [],
   "source": []
  },
  {
   "cell_type": "code",
   "execution_count": null,
   "metadata": {},
   "outputs": [],
   "source": []
  },
  {
   "cell_type": "code",
   "execution_count": null,
   "metadata": {},
   "outputs": [],
   "source": []
  },
  {
   "cell_type": "code",
   "execution_count": null,
   "metadata": {},
   "outputs": [],
   "source": []
  },
  {
   "cell_type": "code",
   "execution_count": null,
   "metadata": {},
   "outputs": [],
   "source": []
  },
  {
   "cell_type": "code",
   "execution_count": null,
   "metadata": {},
   "outputs": [],
   "source": []
  },
  {
   "cell_type": "code",
   "execution_count": null,
   "metadata": {},
   "outputs": [],
   "source": []
  },
  {
   "cell_type": "code",
   "execution_count": null,
   "metadata": {},
   "outputs": [],
   "source": []
  },
  {
   "cell_type": "code",
   "execution_count": null,
   "metadata": {},
   "outputs": [],
   "source": []
  },
  {
   "cell_type": "code",
   "execution_count": null,
   "metadata": {},
   "outputs": [],
   "source": []
  },
  {
   "cell_type": "code",
   "execution_count": null,
   "metadata": {},
   "outputs": [],
   "source": []
  },
  {
   "cell_type": "code",
   "execution_count": null,
   "metadata": {},
   "outputs": [],
   "source": []
  },
  {
   "cell_type": "code",
   "execution_count": null,
   "metadata": {},
   "outputs": [],
   "source": []
  },
  {
   "cell_type": "code",
   "execution_count": null,
   "metadata": {},
   "outputs": [],
   "source": []
  },
  {
   "cell_type": "code",
   "execution_count": null,
   "metadata": {},
   "outputs": [],
   "source": []
  },
  {
   "cell_type": "code",
   "execution_count": null,
   "metadata": {},
   "outputs": [],
   "source": []
  },
  {
   "cell_type": "code",
   "execution_count": null,
   "metadata": {},
   "outputs": [],
   "source": []
  },
  {
   "cell_type": "code",
   "execution_count": null,
   "metadata": {},
   "outputs": [],
   "source": []
  },
  {
   "cell_type": "code",
   "execution_count": null,
   "metadata": {},
   "outputs": [],
   "source": []
  }
 ],
 "metadata": {
  "kernelspec": {
   "display_name": "Python 2",
   "language": "python",
   "name": "python2"
  },
  "language_info": {
   "codemirror_mode": {
    "name": "ipython",
    "version": 2
   },
   "file_extension": ".py",
   "mimetype": "text/x-python",
   "name": "python",
   "nbconvert_exporter": "python",
   "pygments_lexer": "ipython2",
   "version": "2.7.14"
  }
 },
 "nbformat": 4,
 "nbformat_minor": 2
}
